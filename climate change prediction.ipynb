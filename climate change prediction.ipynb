{
 "cells": [
  {
   "cell_type": "code",
   "execution_count": 1,
   "id": "bc0df18c",
   "metadata": {},
   "outputs": [
    {
     "ename": "AssertionError",
     "evalue": "invalid action: 'Ignore'",
     "output_type": "error",
     "traceback": [
      "\u001b[1;31m---------------------------------------------------------------------------\u001b[0m",
      "\u001b[1;31mAssertionError\u001b[0m                            Traceback (most recent call last)",
      "\u001b[1;32m<ipython-input-1-fc066d543a07>\u001b[0m in \u001b[0;36m<module>\u001b[1;34m\u001b[0m\n\u001b[0;32m      7\u001b[0m \u001b[0mget_ipython\u001b[0m\u001b[1;33m(\u001b[0m\u001b[1;33m)\u001b[0m\u001b[1;33m.\u001b[0m\u001b[0mrun_line_magic\u001b[0m\u001b[1;33m(\u001b[0m\u001b[1;34m'matplotlib'\u001b[0m\u001b[1;33m,\u001b[0m \u001b[1;34m'inline'\u001b[0m\u001b[1;33m)\u001b[0m\u001b[1;33m\u001b[0m\u001b[1;33m\u001b[0m\u001b[0m\n\u001b[0;32m      8\u001b[0m \u001b[1;32mimport\u001b[0m \u001b[0mwarnings\u001b[0m\u001b[1;33m\u001b[0m\u001b[1;33m\u001b[0m\u001b[0m\n\u001b[1;32m----> 9\u001b[1;33m \u001b[0mwarnings\u001b[0m\u001b[1;33m.\u001b[0m\u001b[0mfilterwarnings\u001b[0m\u001b[1;33m(\u001b[0m\u001b[1;34m'Ignore'\u001b[0m\u001b[1;33m)\u001b[0m\u001b[1;33m\u001b[0m\u001b[1;33m\u001b[0m\u001b[0m\n\u001b[0m",
      "\u001b[1;32m~\\anaconda3\\lib\\warnings.py\u001b[0m in \u001b[0;36mfilterwarnings\u001b[1;34m(action, message, category, module, lineno, append)\u001b[0m\n\u001b[0;32m    140\u001b[0m     \u001b[1;34m'append'\u001b[0m \u001b[1;33m-\u001b[0m\u001b[1;33m-\u001b[0m \u001b[1;32mif\u001b[0m \u001b[0mtrue\u001b[0m\u001b[1;33m,\u001b[0m \u001b[0mappend\u001b[0m \u001b[0mto\u001b[0m \u001b[0mthe\u001b[0m \u001b[0mlist\u001b[0m \u001b[0mof\u001b[0m \u001b[0mfilters\u001b[0m\u001b[1;33m\u001b[0m\u001b[1;33m\u001b[0m\u001b[0m\n\u001b[0;32m    141\u001b[0m     \"\"\"\n\u001b[1;32m--> 142\u001b[1;33m     assert action in (\"error\", \"ignore\", \"always\", \"default\", \"module\",\n\u001b[0m\u001b[0;32m    143\u001b[0m                       \"once\"), \"invalid action: %r\" % (action,)\n\u001b[0;32m    144\u001b[0m     \u001b[1;32massert\u001b[0m \u001b[0misinstance\u001b[0m\u001b[1;33m(\u001b[0m\u001b[0mmessage\u001b[0m\u001b[1;33m,\u001b[0m \u001b[0mstr\u001b[0m\u001b[1;33m)\u001b[0m\u001b[1;33m,\u001b[0m \u001b[1;34m\"message must be a string\"\u001b[0m\u001b[1;33m\u001b[0m\u001b[1;33m\u001b[0m\u001b[0m\n",
      "\u001b[1;31mAssertionError\u001b[0m: invalid action: 'Ignore'"
     ]
    }
   ],
   "source": [
    "import pandas as pd\n",
    "import numpy as np\n",
    "from datetime import datetime,timedelta\n",
    "import matplotlib.pyplot as plt\n",
    "from statsmodels.tsa.seasonal import seasonal_decompose\n",
    "import seaborn as sns\n",
    "%matplotlib inline\n",
    "import warnings\n",
    "warnings.filterwarnings('Ignore')"
   ]
  },
  {
   "cell_type": "code",
   "execution_count": 2,
   "id": "10c8a308",
   "metadata": {},
   "outputs": [
    {
     "name": "stderr",
     "output_type": "stream",
     "text": [
      "C:\\Users\\ELCOT\\anaconda3\\lib\\site-packages\\IPython\\core\\interactiveshell.py:3165: DtypeWarning: Columns (6) have mixed types.Specify dtype option on import or set low_memory=False.\n",
      "  has_raised = await self.run_ast_nodes(code_ast.body, cell_name,\n"
     ]
    }
   ],
   "source": [
    "df=pd.read_csv('GlobalLandTemperaturesByCountry.csv')"
   ]
  },
  {
   "cell_type": "code",
   "execution_count": 3,
   "id": "15c32066",
   "metadata": {},
   "outputs": [
    {
     "data": {
      "text/html": [
       "<div>\n",
       "<style scoped>\n",
       "    .dataframe tbody tr th:only-of-type {\n",
       "        vertical-align: middle;\n",
       "    }\n",
       "\n",
       "    .dataframe tbody tr th {\n",
       "        vertical-align: top;\n",
       "    }\n",
       "\n",
       "    .dataframe thead th {\n",
       "        text-align: right;\n",
       "    }\n",
       "</style>\n",
       "<table border=\"1\" class=\"dataframe\">\n",
       "  <thead>\n",
       "    <tr style=\"text-align: right;\">\n",
       "      <th></th>\n",
       "      <th>dt</th>\n",
       "      <th>AverageTemperature</th>\n",
       "      <th>AverageTemperatureUncertainty</th>\n",
       "      <th>Country</th>\n",
       "      <th>Unnamed: 4</th>\n",
       "      <th>Unnamed: 5</th>\n",
       "      <th>Country.1</th>\n",
       "    </tr>\n",
       "  </thead>\n",
       "  <tbody>\n",
       "    <tr>\n",
       "      <th>0</th>\n",
       "      <td>1743-11-01</td>\n",
       "      <td>4.384</td>\n",
       "      <td>2.294</td>\n",
       "      <td>Åland</td>\n",
       "      <td>NaN</td>\n",
       "      <td>NaN</td>\n",
       "      <td>Åland</td>\n",
       "    </tr>\n",
       "    <tr>\n",
       "      <th>1</th>\n",
       "      <td>1743-12-01</td>\n",
       "      <td>NaN</td>\n",
       "      <td>NaN</td>\n",
       "      <td>Åland</td>\n",
       "      <td>NaN</td>\n",
       "      <td>NaN</td>\n",
       "      <td>Afghanistan</td>\n",
       "    </tr>\n",
       "    <tr>\n",
       "      <th>2</th>\n",
       "      <td>1744-01-01</td>\n",
       "      <td>NaN</td>\n",
       "      <td>NaN</td>\n",
       "      <td>Åland</td>\n",
       "      <td>NaN</td>\n",
       "      <td>NaN</td>\n",
       "      <td>Africa</td>\n",
       "    </tr>\n",
       "    <tr>\n",
       "      <th>3</th>\n",
       "      <td>1744-02-01</td>\n",
       "      <td>NaN</td>\n",
       "      <td>NaN</td>\n",
       "      <td>Åland</td>\n",
       "      <td>NaN</td>\n",
       "      <td>NaN</td>\n",
       "      <td>Albania</td>\n",
       "    </tr>\n",
       "    <tr>\n",
       "      <th>4</th>\n",
       "      <td>1744-03-01</td>\n",
       "      <td>NaN</td>\n",
       "      <td>NaN</td>\n",
       "      <td>Åland</td>\n",
       "      <td>NaN</td>\n",
       "      <td>NaN</td>\n",
       "      <td>Algeria</td>\n",
       "    </tr>\n",
       "  </tbody>\n",
       "</table>\n",
       "</div>"
      ],
      "text/plain": [
       "           dt  AverageTemperature  AverageTemperatureUncertainty Country  \\\n",
       "0  1743-11-01               4.384                          2.294   Åland   \n",
       "1  1743-12-01                 NaN                            NaN   Åland   \n",
       "2  1744-01-01                 NaN                            NaN   Åland   \n",
       "3  1744-02-01                 NaN                            NaN   Åland   \n",
       "4  1744-03-01                 NaN                            NaN   Åland   \n",
       "\n",
       "   Unnamed: 4  Unnamed: 5    Country.1  \n",
       "0         NaN         NaN        Åland  \n",
       "1         NaN         NaN  Afghanistan  \n",
       "2         NaN         NaN       Africa  \n",
       "3         NaN         NaN      Albania  \n",
       "4         NaN         NaN      Algeria  "
      ]
     },
     "execution_count": 3,
     "metadata": {},
     "output_type": "execute_result"
    }
   ],
   "source": [
    "df.head()"
   ]
  },
  {
   "cell_type": "code",
   "execution_count": 4,
   "id": "d24088b2",
   "metadata": {},
   "outputs": [],
   "source": [
    "df=df.fillna(method=\"ffill\")"
   ]
  },
  {
   "cell_type": "code",
   "execution_count": 5,
   "id": "57e5aa63",
   "metadata": {},
   "outputs": [
    {
     "data": {
      "text/html": [
       "<div>\n",
       "<style scoped>\n",
       "    .dataframe tbody tr th:only-of-type {\n",
       "        vertical-align: middle;\n",
       "    }\n",
       "\n",
       "    .dataframe tbody tr th {\n",
       "        vertical-align: top;\n",
       "    }\n",
       "\n",
       "    .dataframe thead th {\n",
       "        text-align: right;\n",
       "    }\n",
       "</style>\n",
       "<table border=\"1\" class=\"dataframe\">\n",
       "  <thead>\n",
       "    <tr style=\"text-align: right;\">\n",
       "      <th></th>\n",
       "      <th>dt</th>\n",
       "      <th>AverageTemperature</th>\n",
       "      <th>AverageTemperatureUncertainty</th>\n",
       "      <th>Country</th>\n",
       "      <th>Unnamed: 4</th>\n",
       "      <th>Unnamed: 5</th>\n",
       "      <th>Country.1</th>\n",
       "    </tr>\n",
       "  </thead>\n",
       "  <tbody>\n",
       "    <tr>\n",
       "      <th>0</th>\n",
       "      <td>1743-11-01</td>\n",
       "      <td>4.384</td>\n",
       "      <td>2.294</td>\n",
       "      <td>Åland</td>\n",
       "      <td>NaN</td>\n",
       "      <td>NaN</td>\n",
       "      <td>Åland</td>\n",
       "    </tr>\n",
       "    <tr>\n",
       "      <th>1</th>\n",
       "      <td>1743-12-01</td>\n",
       "      <td>4.384</td>\n",
       "      <td>2.294</td>\n",
       "      <td>Åland</td>\n",
       "      <td>NaN</td>\n",
       "      <td>NaN</td>\n",
       "      <td>Afghanistan</td>\n",
       "    </tr>\n",
       "    <tr>\n",
       "      <th>2</th>\n",
       "      <td>1744-01-01</td>\n",
       "      <td>4.384</td>\n",
       "      <td>2.294</td>\n",
       "      <td>Åland</td>\n",
       "      <td>NaN</td>\n",
       "      <td>NaN</td>\n",
       "      <td>Africa</td>\n",
       "    </tr>\n",
       "    <tr>\n",
       "      <th>3</th>\n",
       "      <td>1744-02-01</td>\n",
       "      <td>4.384</td>\n",
       "      <td>2.294</td>\n",
       "      <td>Åland</td>\n",
       "      <td>NaN</td>\n",
       "      <td>NaN</td>\n",
       "      <td>Albania</td>\n",
       "    </tr>\n",
       "    <tr>\n",
       "      <th>4</th>\n",
       "      <td>1744-03-01</td>\n",
       "      <td>4.384</td>\n",
       "      <td>2.294</td>\n",
       "      <td>Åland</td>\n",
       "      <td>NaN</td>\n",
       "      <td>NaN</td>\n",
       "      <td>Algeria</td>\n",
       "    </tr>\n",
       "    <tr>\n",
       "      <th>5</th>\n",
       "      <td>1744-04-01</td>\n",
       "      <td>1.530</td>\n",
       "      <td>4.680</td>\n",
       "      <td>Åland</td>\n",
       "      <td>NaN</td>\n",
       "      <td>NaN</td>\n",
       "      <td>American Samoa</td>\n",
       "    </tr>\n",
       "    <tr>\n",
       "      <th>6</th>\n",
       "      <td>1744-05-01</td>\n",
       "      <td>6.702</td>\n",
       "      <td>1.789</td>\n",
       "      <td>Åland</td>\n",
       "      <td>NaN</td>\n",
       "      <td>NaN</td>\n",
       "      <td>Andorra</td>\n",
       "    </tr>\n",
       "    <tr>\n",
       "      <th>7</th>\n",
       "      <td>1744-06-01</td>\n",
       "      <td>11.609</td>\n",
       "      <td>1.577</td>\n",
       "      <td>Åland</td>\n",
       "      <td>NaN</td>\n",
       "      <td>NaN</td>\n",
       "      <td>Angola</td>\n",
       "    </tr>\n",
       "    <tr>\n",
       "      <th>8</th>\n",
       "      <td>1744-07-01</td>\n",
       "      <td>15.342</td>\n",
       "      <td>1.410</td>\n",
       "      <td>Åland</td>\n",
       "      <td>NaN</td>\n",
       "      <td>NaN</td>\n",
       "      <td>Anguilla</td>\n",
       "    </tr>\n",
       "    <tr>\n",
       "      <th>9</th>\n",
       "      <td>1744-08-01</td>\n",
       "      <td>15.342</td>\n",
       "      <td>1.410</td>\n",
       "      <td>Åland</td>\n",
       "      <td>NaN</td>\n",
       "      <td>NaN</td>\n",
       "      <td>Antarctica</td>\n",
       "    </tr>\n",
       "  </tbody>\n",
       "</table>\n",
       "</div>"
      ],
      "text/plain": [
       "           dt  AverageTemperature  AverageTemperatureUncertainty Country  \\\n",
       "0  1743-11-01               4.384                          2.294   Åland   \n",
       "1  1743-12-01               4.384                          2.294   Åland   \n",
       "2  1744-01-01               4.384                          2.294   Åland   \n",
       "3  1744-02-01               4.384                          2.294   Åland   \n",
       "4  1744-03-01               4.384                          2.294   Åland   \n",
       "5  1744-04-01               1.530                          4.680   Åland   \n",
       "6  1744-05-01               6.702                          1.789   Åland   \n",
       "7  1744-06-01              11.609                          1.577   Åland   \n",
       "8  1744-07-01              15.342                          1.410   Åland   \n",
       "9  1744-08-01              15.342                          1.410   Åland   \n",
       "\n",
       "   Unnamed: 4  Unnamed: 5       Country.1  \n",
       "0         NaN         NaN           Åland  \n",
       "1         NaN         NaN     Afghanistan  \n",
       "2         NaN         NaN          Africa  \n",
       "3         NaN         NaN         Albania  \n",
       "4         NaN         NaN         Algeria  \n",
       "5         NaN         NaN  American Samoa  \n",
       "6         NaN         NaN         Andorra  \n",
       "7         NaN         NaN          Angola  \n",
       "8         NaN         NaN        Anguilla  \n",
       "9         NaN         NaN      Antarctica  "
      ]
     },
     "execution_count": 5,
     "metadata": {},
     "output_type": "execute_result"
    }
   ],
   "source": [
    "df.head(10)"
   ]
  },
  {
   "cell_type": "code",
   "execution_count": 6,
   "id": "f82e84a7",
   "metadata": {},
   "outputs": [
    {
     "data": {
      "text/plain": [
       "(577462, 7)"
      ]
     },
     "execution_count": 6,
     "metadata": {},
     "output_type": "execute_result"
    }
   ],
   "source": [
    "df.shape"
   ]
  },
  {
   "cell_type": "code",
   "execution_count": 7,
   "id": "66ac269d",
   "metadata": {},
   "outputs": [
    {
     "data": {
      "text/plain": [
       "dt                                    0\n",
       "AverageTemperature                    0\n",
       "AverageTemperatureUncertainty         0\n",
       "Country                               0\n",
       "Unnamed: 4                       577462\n",
       "Unnamed: 5                       577462\n",
       "Country.1                             0\n",
       "dtype: int64"
      ]
     },
     "execution_count": 7,
     "metadata": {},
     "output_type": "execute_result"
    }
   ],
   "source": [
    "df.isnull().sum()"
   ]
  },
  {
   "cell_type": "code",
   "execution_count": 8,
   "id": "421d0071",
   "metadata": {},
   "outputs": [],
   "source": [
    "df.drop('Unnamed: 4',axis=1,inplace=True)"
   ]
  },
  {
   "cell_type": "code",
   "execution_count": 9,
   "id": "b489135f",
   "metadata": {},
   "outputs": [],
   "source": [
    "df.drop('Unnamed: 5',axis=1,inplace=True)"
   ]
  },
  {
   "cell_type": "code",
   "execution_count": 10,
   "id": "1f105d33",
   "metadata": {},
   "outputs": [
    {
     "data": {
      "text/html": [
       "<div>\n",
       "<style scoped>\n",
       "    .dataframe tbody tr th:only-of-type {\n",
       "        vertical-align: middle;\n",
       "    }\n",
       "\n",
       "    .dataframe tbody tr th {\n",
       "        vertical-align: top;\n",
       "    }\n",
       "\n",
       "    .dataframe thead th {\n",
       "        text-align: right;\n",
       "    }\n",
       "</style>\n",
       "<table border=\"1\" class=\"dataframe\">\n",
       "  <thead>\n",
       "    <tr style=\"text-align: right;\">\n",
       "      <th></th>\n",
       "      <th>dt</th>\n",
       "      <th>AverageTemperature</th>\n",
       "      <th>AverageTemperatureUncertainty</th>\n",
       "      <th>Country</th>\n",
       "      <th>Country.1</th>\n",
       "    </tr>\n",
       "  </thead>\n",
       "  <tbody>\n",
       "    <tr>\n",
       "      <th>0</th>\n",
       "      <td>1743-11-01</td>\n",
       "      <td>4.384</td>\n",
       "      <td>2.294</td>\n",
       "      <td>Åland</td>\n",
       "      <td>Åland</td>\n",
       "    </tr>\n",
       "    <tr>\n",
       "      <th>1</th>\n",
       "      <td>1743-12-01</td>\n",
       "      <td>4.384</td>\n",
       "      <td>2.294</td>\n",
       "      <td>Åland</td>\n",
       "      <td>Afghanistan</td>\n",
       "    </tr>\n",
       "    <tr>\n",
       "      <th>2</th>\n",
       "      <td>1744-01-01</td>\n",
       "      <td>4.384</td>\n",
       "      <td>2.294</td>\n",
       "      <td>Åland</td>\n",
       "      <td>Africa</td>\n",
       "    </tr>\n",
       "    <tr>\n",
       "      <th>3</th>\n",
       "      <td>1744-02-01</td>\n",
       "      <td>4.384</td>\n",
       "      <td>2.294</td>\n",
       "      <td>Åland</td>\n",
       "      <td>Albania</td>\n",
       "    </tr>\n",
       "    <tr>\n",
       "      <th>4</th>\n",
       "      <td>1744-03-01</td>\n",
       "      <td>4.384</td>\n",
       "      <td>2.294</td>\n",
       "      <td>Åland</td>\n",
       "      <td>Algeria</td>\n",
       "    </tr>\n",
       "    <tr>\n",
       "      <th>5</th>\n",
       "      <td>1744-04-01</td>\n",
       "      <td>1.530</td>\n",
       "      <td>4.680</td>\n",
       "      <td>Åland</td>\n",
       "      <td>American Samoa</td>\n",
       "    </tr>\n",
       "    <tr>\n",
       "      <th>6</th>\n",
       "      <td>1744-05-01</td>\n",
       "      <td>6.702</td>\n",
       "      <td>1.789</td>\n",
       "      <td>Åland</td>\n",
       "      <td>Andorra</td>\n",
       "    </tr>\n",
       "    <tr>\n",
       "      <th>7</th>\n",
       "      <td>1744-06-01</td>\n",
       "      <td>11.609</td>\n",
       "      <td>1.577</td>\n",
       "      <td>Åland</td>\n",
       "      <td>Angola</td>\n",
       "    </tr>\n",
       "    <tr>\n",
       "      <th>8</th>\n",
       "      <td>1744-07-01</td>\n",
       "      <td>15.342</td>\n",
       "      <td>1.410</td>\n",
       "      <td>Åland</td>\n",
       "      <td>Anguilla</td>\n",
       "    </tr>\n",
       "    <tr>\n",
       "      <th>9</th>\n",
       "      <td>1744-08-01</td>\n",
       "      <td>15.342</td>\n",
       "      <td>1.410</td>\n",
       "      <td>Åland</td>\n",
       "      <td>Antarctica</td>\n",
       "    </tr>\n",
       "  </tbody>\n",
       "</table>\n",
       "</div>"
      ],
      "text/plain": [
       "           dt  AverageTemperature  AverageTemperatureUncertainty Country  \\\n",
       "0  1743-11-01               4.384                          2.294   Åland   \n",
       "1  1743-12-01               4.384                          2.294   Åland   \n",
       "2  1744-01-01               4.384                          2.294   Åland   \n",
       "3  1744-02-01               4.384                          2.294   Åland   \n",
       "4  1744-03-01               4.384                          2.294   Åland   \n",
       "5  1744-04-01               1.530                          4.680   Åland   \n",
       "6  1744-05-01               6.702                          1.789   Åland   \n",
       "7  1744-06-01              11.609                          1.577   Åland   \n",
       "8  1744-07-01              15.342                          1.410   Åland   \n",
       "9  1744-08-01              15.342                          1.410   Åland   \n",
       "\n",
       "        Country.1  \n",
       "0           Åland  \n",
       "1     Afghanistan  \n",
       "2          Africa  \n",
       "3         Albania  \n",
       "4         Algeria  \n",
       "5  American Samoa  \n",
       "6         Andorra  \n",
       "7          Angola  \n",
       "8        Anguilla  \n",
       "9      Antarctica  "
      ]
     },
     "execution_count": 10,
     "metadata": {},
     "output_type": "execute_result"
    }
   ],
   "source": [
    "df.head(10)"
   ]
  },
  {
   "cell_type": "code",
   "execution_count": 11,
   "id": "ab7378ed",
   "metadata": {},
   "outputs": [],
   "source": [
    "df.rename(columns={'dt':'Date'},inplace=True)"
   ]
  },
  {
   "cell_type": "code",
   "execution_count": 12,
   "id": "bf71cc11",
   "metadata": {},
   "outputs": [
    {
     "data": {
      "text/html": [
       "<div>\n",
       "<style scoped>\n",
       "    .dataframe tbody tr th:only-of-type {\n",
       "        vertical-align: middle;\n",
       "    }\n",
       "\n",
       "    .dataframe tbody tr th {\n",
       "        vertical-align: top;\n",
       "    }\n",
       "\n",
       "    .dataframe thead th {\n",
       "        text-align: right;\n",
       "    }\n",
       "</style>\n",
       "<table border=\"1\" class=\"dataframe\">\n",
       "  <thead>\n",
       "    <tr style=\"text-align: right;\">\n",
       "      <th></th>\n",
       "      <th>Date</th>\n",
       "      <th>AverageTemperature</th>\n",
       "      <th>AverageTemperatureUncertainty</th>\n",
       "      <th>Country</th>\n",
       "      <th>Country.1</th>\n",
       "    </tr>\n",
       "  </thead>\n",
       "  <tbody>\n",
       "    <tr>\n",
       "      <th>0</th>\n",
       "      <td>1743-11-01</td>\n",
       "      <td>4.384</td>\n",
       "      <td>2.294</td>\n",
       "      <td>Åland</td>\n",
       "      <td>Åland</td>\n",
       "    </tr>\n",
       "    <tr>\n",
       "      <th>1</th>\n",
       "      <td>1743-12-01</td>\n",
       "      <td>4.384</td>\n",
       "      <td>2.294</td>\n",
       "      <td>Åland</td>\n",
       "      <td>Afghanistan</td>\n",
       "    </tr>\n",
       "    <tr>\n",
       "      <th>2</th>\n",
       "      <td>1744-01-01</td>\n",
       "      <td>4.384</td>\n",
       "      <td>2.294</td>\n",
       "      <td>Åland</td>\n",
       "      <td>Africa</td>\n",
       "    </tr>\n",
       "    <tr>\n",
       "      <th>3</th>\n",
       "      <td>1744-02-01</td>\n",
       "      <td>4.384</td>\n",
       "      <td>2.294</td>\n",
       "      <td>Åland</td>\n",
       "      <td>Albania</td>\n",
       "    </tr>\n",
       "    <tr>\n",
       "      <th>4</th>\n",
       "      <td>1744-03-01</td>\n",
       "      <td>4.384</td>\n",
       "      <td>2.294</td>\n",
       "      <td>Åland</td>\n",
       "      <td>Algeria</td>\n",
       "    </tr>\n",
       "  </tbody>\n",
       "</table>\n",
       "</div>"
      ],
      "text/plain": [
       "         Date  AverageTemperature  AverageTemperatureUncertainty Country  \\\n",
       "0  1743-11-01               4.384                          2.294   Åland   \n",
       "1  1743-12-01               4.384                          2.294   Åland   \n",
       "2  1744-01-01               4.384                          2.294   Åland   \n",
       "3  1744-02-01               4.384                          2.294   Åland   \n",
       "4  1744-03-01               4.384                          2.294   Åland   \n",
       "\n",
       "     Country.1  \n",
       "0        Åland  \n",
       "1  Afghanistan  \n",
       "2       Africa  \n",
       "3      Albania  \n",
       "4      Algeria  "
      ]
     },
     "execution_count": 12,
     "metadata": {},
     "output_type": "execute_result"
    }
   ],
   "source": [
    "df.head()"
   ]
  },
  {
   "cell_type": "code",
   "execution_count": 13,
   "id": "1b384840",
   "metadata": {},
   "outputs": [
    {
     "data": {
      "text/plain": [
       "DatetimeIndex(['1743-11-01', '1743-12-01', '1744-01-01', '1744-02-01',\n",
       "               '1744-03-01', '1744-04-01', '1744-05-01', '1744-06-01',\n",
       "               '1744-07-01', '1744-08-01',\n",
       "               ...\n",
       "               '2012-01-12', '2013-01-01', '2013-01-02', '2013-01-03',\n",
       "               '2013-01-04', '2013-01-05', '2013-01-06', '2013-01-07',\n",
       "               '2013-01-08', '2013-01-09'],\n",
       "              dtype='datetime64[ns]', name='Date', length=577462, freq=None)"
      ]
     },
     "execution_count": 13,
     "metadata": {},
     "output_type": "execute_result"
    }
   ],
   "source": [
    "df['Date']=pd.to_datetime(df['Date'])\n",
    "df.set_index('Date',inplace=True)\n",
    "df.index"
   ]
  },
  {
   "cell_type": "code",
   "execution_count": 14,
   "id": "b74b6cf5",
   "metadata": {},
   "outputs": [
    {
     "data": {
      "text/html": [
       "<div>\n",
       "<style scoped>\n",
       "    .dataframe tbody tr th:only-of-type {\n",
       "        vertical-align: middle;\n",
       "    }\n",
       "\n",
       "    .dataframe tbody tr th {\n",
       "        vertical-align: top;\n",
       "    }\n",
       "\n",
       "    .dataframe thead th {\n",
       "        text-align: right;\n",
       "    }\n",
       "</style>\n",
       "<table border=\"1\" class=\"dataframe\">\n",
       "  <thead>\n",
       "    <tr style=\"text-align: right;\">\n",
       "      <th></th>\n",
       "      <th>AverageTemperature</th>\n",
       "      <th>AverageTemperatureUncertainty</th>\n",
       "    </tr>\n",
       "  </thead>\n",
       "  <tbody>\n",
       "    <tr>\n",
       "      <th>count</th>\n",
       "      <td>577462.000000</td>\n",
       "      <td>577462.000000</td>\n",
       "    </tr>\n",
       "    <tr>\n",
       "      <th>mean</th>\n",
       "      <td>17.399923</td>\n",
       "      <td>1.077051</td>\n",
       "    </tr>\n",
       "    <tr>\n",
       "      <th>std</th>\n",
       "      <td>10.832390</td>\n",
       "      <td>1.218259</td>\n",
       "    </tr>\n",
       "    <tr>\n",
       "      <th>min</th>\n",
       "      <td>-37.658000</td>\n",
       "      <td>0.052000</td>\n",
       "    </tr>\n",
       "    <tr>\n",
       "      <th>25%</th>\n",
       "      <td>10.354000</td>\n",
       "      <td>0.333000</td>\n",
       "    </tr>\n",
       "    <tr>\n",
       "      <th>50%</th>\n",
       "      <td>21.271000</td>\n",
       "      <td>0.617000</td>\n",
       "    </tr>\n",
       "    <tr>\n",
       "      <th>75%</th>\n",
       "      <td>25.777000</td>\n",
       "      <td>1.340000</td>\n",
       "    </tr>\n",
       "    <tr>\n",
       "      <th>max</th>\n",
       "      <td>38.842000</td>\n",
       "      <td>15.003000</td>\n",
       "    </tr>\n",
       "  </tbody>\n",
       "</table>\n",
       "</div>"
      ],
      "text/plain": [
       "       AverageTemperature  AverageTemperatureUncertainty\n",
       "count       577462.000000                  577462.000000\n",
       "mean            17.399923                       1.077051\n",
       "std             10.832390                       1.218259\n",
       "min            -37.658000                       0.052000\n",
       "25%             10.354000                       0.333000\n",
       "50%             21.271000                       0.617000\n",
       "75%             25.777000                       1.340000\n",
       "max             38.842000                      15.003000"
      ]
     },
     "execution_count": 14,
     "metadata": {},
     "output_type": "execute_result"
    }
   ],
   "source": [
    "df.describe()"
   ]
  },
  {
   "cell_type": "code",
   "execution_count": 15,
   "id": "344c8894",
   "metadata": {},
   "outputs": [
    {
     "data": {
      "text/html": [
       "<div>\n",
       "<style scoped>\n",
       "    .dataframe tbody tr th:only-of-type {\n",
       "        vertical-align: middle;\n",
       "    }\n",
       "\n",
       "    .dataframe tbody tr th {\n",
       "        vertical-align: top;\n",
       "    }\n",
       "\n",
       "    .dataframe thead th {\n",
       "        text-align: right;\n",
       "    }\n",
       "</style>\n",
       "<table border=\"1\" class=\"dataframe\">\n",
       "  <thead>\n",
       "    <tr style=\"text-align: right;\">\n",
       "      <th></th>\n",
       "      <th>AverageTemperature</th>\n",
       "      <th>AverageTemperatureUncertainty</th>\n",
       "      <th>Country</th>\n",
       "      <th>Country.1</th>\n",
       "      <th>Year</th>\n",
       "    </tr>\n",
       "    <tr>\n",
       "      <th>Date</th>\n",
       "      <th></th>\n",
       "      <th></th>\n",
       "      <th></th>\n",
       "      <th></th>\n",
       "      <th></th>\n",
       "    </tr>\n",
       "  </thead>\n",
       "  <tbody>\n",
       "    <tr>\n",
       "      <th>1743-11-01</th>\n",
       "      <td>4.384</td>\n",
       "      <td>2.294</td>\n",
       "      <td>Åland</td>\n",
       "      <td>Åland</td>\n",
       "      <td>1743</td>\n",
       "    </tr>\n",
       "    <tr>\n",
       "      <th>1743-12-01</th>\n",
       "      <td>4.384</td>\n",
       "      <td>2.294</td>\n",
       "      <td>Åland</td>\n",
       "      <td>Afghanistan</td>\n",
       "      <td>1743</td>\n",
       "    </tr>\n",
       "    <tr>\n",
       "      <th>1744-01-01</th>\n",
       "      <td>4.384</td>\n",
       "      <td>2.294</td>\n",
       "      <td>Åland</td>\n",
       "      <td>Africa</td>\n",
       "      <td>1744</td>\n",
       "    </tr>\n",
       "    <tr>\n",
       "      <th>1744-02-01</th>\n",
       "      <td>4.384</td>\n",
       "      <td>2.294</td>\n",
       "      <td>Åland</td>\n",
       "      <td>Albania</td>\n",
       "      <td>1744</td>\n",
       "    </tr>\n",
       "    <tr>\n",
       "      <th>1744-03-01</th>\n",
       "      <td>4.384</td>\n",
       "      <td>2.294</td>\n",
       "      <td>Åland</td>\n",
       "      <td>Algeria</td>\n",
       "      <td>1744</td>\n",
       "    </tr>\n",
       "  </tbody>\n",
       "</table>\n",
       "</div>"
      ],
      "text/plain": [
       "            AverageTemperature  AverageTemperatureUncertainty Country  \\\n",
       "Date                                                                    \n",
       "1743-11-01               4.384                          2.294   Åland   \n",
       "1743-12-01               4.384                          2.294   Åland   \n",
       "1744-01-01               4.384                          2.294   Åland   \n",
       "1744-02-01               4.384                          2.294   Åland   \n",
       "1744-03-01               4.384                          2.294   Åland   \n",
       "\n",
       "              Country.1  Year  \n",
       "Date                           \n",
       "1743-11-01        Åland  1743  \n",
       "1743-12-01  Afghanistan  1743  \n",
       "1744-01-01       Africa  1744  \n",
       "1744-02-01      Albania  1744  \n",
       "1744-03-01      Algeria  1744  "
      ]
     },
     "execution_count": 15,
     "metadata": {},
     "output_type": "execute_result"
    }
   ],
   "source": [
    "df['Year']=df.index.year\n",
    "df.head()"
   ]
  },
  {
   "cell_type": "code",
   "execution_count": 16,
   "id": "3e4da8fb",
   "metadata": {},
   "outputs": [
    {
     "data": {
      "text/html": [
       "<div>\n",
       "<style scoped>\n",
       "    .dataframe tbody tr th:only-of-type {\n",
       "        vertical-align: middle;\n",
       "    }\n",
       "\n",
       "    .dataframe tbody tr th {\n",
       "        vertical-align: top;\n",
       "    }\n",
       "\n",
       "    .dataframe thead th {\n",
       "        text-align: right;\n",
       "    }\n",
       "</style>\n",
       "<table border=\"1\" class=\"dataframe\">\n",
       "  <thead>\n",
       "    <tr style=\"text-align: right;\">\n",
       "      <th></th>\n",
       "      <th>AverageTemperature</th>\n",
       "      <th>AverageTemperatureUncertainty</th>\n",
       "      <th>Year</th>\n",
       "    </tr>\n",
       "  </thead>\n",
       "  <tbody>\n",
       "    <tr>\n",
       "      <th>count</th>\n",
       "      <td>577462.000000</td>\n",
       "      <td>577462.000000</td>\n",
       "      <td>577462.000000</td>\n",
       "    </tr>\n",
       "    <tr>\n",
       "      <th>mean</th>\n",
       "      <td>17.399923</td>\n",
       "      <td>1.077051</td>\n",
       "      <td>1908.819188</td>\n",
       "    </tr>\n",
       "    <tr>\n",
       "      <th>std</th>\n",
       "      <td>10.832390</td>\n",
       "      <td>1.218259</td>\n",
       "      <td>65.916942</td>\n",
       "    </tr>\n",
       "    <tr>\n",
       "      <th>min</th>\n",
       "      <td>-37.658000</td>\n",
       "      <td>0.052000</td>\n",
       "      <td>1743.000000</td>\n",
       "    </tr>\n",
       "    <tr>\n",
       "      <th>25%</th>\n",
       "      <td>10.354000</td>\n",
       "      <td>0.333000</td>\n",
       "      <td>1862.000000</td>\n",
       "    </tr>\n",
       "    <tr>\n",
       "      <th>50%</th>\n",
       "      <td>21.271000</td>\n",
       "      <td>0.617000</td>\n",
       "      <td>1914.000000</td>\n",
       "    </tr>\n",
       "    <tr>\n",
       "      <th>75%</th>\n",
       "      <td>25.777000</td>\n",
       "      <td>1.340000</td>\n",
       "      <td>1964.000000</td>\n",
       "    </tr>\n",
       "    <tr>\n",
       "      <th>max</th>\n",
       "      <td>38.842000</td>\n",
       "      <td>15.003000</td>\n",
       "      <td>2013.000000</td>\n",
       "    </tr>\n",
       "  </tbody>\n",
       "</table>\n",
       "</div>"
      ],
      "text/plain": [
       "       AverageTemperature  AverageTemperatureUncertainty           Year\n",
       "count       577462.000000                  577462.000000  577462.000000\n",
       "mean            17.399923                       1.077051    1908.819188\n",
       "std             10.832390                       1.218259      65.916942\n",
       "min            -37.658000                       0.052000    1743.000000\n",
       "25%             10.354000                       0.333000    1862.000000\n",
       "50%             21.271000                       0.617000    1914.000000\n",
       "75%             25.777000                       1.340000    1964.000000\n",
       "max             38.842000                      15.003000    2013.000000"
      ]
     },
     "execution_count": 16,
     "metadata": {},
     "output_type": "execute_result"
    }
   ],
   "source": [
    "df.describe()"
   ]
  },
  {
   "cell_type": "code",
   "execution_count": 17,
   "id": "6ba94fe7",
   "metadata": {},
   "outputs": [
    {
     "data": {
      "text/html": [
       "<div>\n",
       "<style scoped>\n",
       "    .dataframe tbody tr th:only-of-type {\n",
       "        vertical-align: middle;\n",
       "    }\n",
       "\n",
       "    .dataframe tbody tr th {\n",
       "        vertical-align: top;\n",
       "    }\n",
       "\n",
       "    .dataframe thead th {\n",
       "        text-align: right;\n",
       "    }\n",
       "</style>\n",
       "<table border=\"1\" class=\"dataframe\">\n",
       "  <thead>\n",
       "    <tr style=\"text-align: right;\">\n",
       "      <th></th>\n",
       "      <th>AverageTemperature</th>\n",
       "      <th>AverageTemperatureUncertainty</th>\n",
       "      <th>Country</th>\n",
       "      <th>Country.1</th>\n",
       "      <th>Year</th>\n",
       "    </tr>\n",
       "    <tr>\n",
       "      <th>Date</th>\n",
       "      <th></th>\n",
       "      <th></th>\n",
       "      <th></th>\n",
       "      <th></th>\n",
       "      <th></th>\n",
       "    </tr>\n",
       "  </thead>\n",
       "  <tbody>\n",
       "    <tr>\n",
       "      <th>1980-01-01</th>\n",
       "      <td>-4.073</td>\n",
       "      <td>0.518</td>\n",
       "      <td>Åland</td>\n",
       "      <td>Zimbabwe</td>\n",
       "      <td>1980</td>\n",
       "    </tr>\n",
       "    <tr>\n",
       "      <th>1980-01-02</th>\n",
       "      <td>-6.484</td>\n",
       "      <td>0.441</td>\n",
       "      <td>Åland</td>\n",
       "      <td>Zimbabwe</td>\n",
       "      <td>1980</td>\n",
       "    </tr>\n",
       "    <tr>\n",
       "      <th>1980-01-03</th>\n",
       "      <td>-3.947</td>\n",
       "      <td>0.466</td>\n",
       "      <td>Åland</td>\n",
       "      <td>Zimbabwe</td>\n",
       "      <td>1980</td>\n",
       "    </tr>\n",
       "    <tr>\n",
       "      <th>1980-01-04</th>\n",
       "      <td>2.928</td>\n",
       "      <td>0.597</td>\n",
       "      <td>Åland</td>\n",
       "      <td>Zimbabwe</td>\n",
       "      <td>1980</td>\n",
       "    </tr>\n",
       "    <tr>\n",
       "      <th>1980-01-05</th>\n",
       "      <td>6.154</td>\n",
       "      <td>0.241</td>\n",
       "      <td>Åland</td>\n",
       "      <td>Zimbabwe</td>\n",
       "      <td>1980</td>\n",
       "    </tr>\n",
       "  </tbody>\n",
       "</table>\n",
       "</div>"
      ],
      "text/plain": [
       "            AverageTemperature  AverageTemperatureUncertainty Country  \\\n",
       "Date                                                                    \n",
       "1980-01-01              -4.073                          0.518   Åland   \n",
       "1980-01-02              -6.484                          0.441   Åland   \n",
       "1980-01-03              -3.947                          0.466   Åland   \n",
       "1980-01-04               2.928                          0.597   Åland   \n",
       "1980-01-05               6.154                          0.241   Åland   \n",
       "\n",
       "           Country.1  Year  \n",
       "Date                        \n",
       "1980-01-01  Zimbabwe  1980  \n",
       "1980-01-02  Zimbabwe  1980  \n",
       "1980-01-03  Zimbabwe  1980  \n",
       "1980-01-04  Zimbabwe  1980  \n",
       "1980-01-05  Zimbabwe  1980  "
      ]
     },
     "execution_count": 17,
     "metadata": {},
     "output_type": "execute_result"
    }
   ],
   "source": [
    "latest_df=df.loc['1980':'2013']\n",
    "latest_df.head()"
   ]
  },
  {
   "cell_type": "code",
   "execution_count": 18,
   "id": "76cefe94",
   "metadata": {},
   "outputs": [
    {
     "data": {
      "text/html": [
       "<div>\n",
       "<style scoped>\n",
       "    .dataframe tbody tr th:only-of-type {\n",
       "        vertical-align: middle;\n",
       "    }\n",
       "\n",
       "    .dataframe tbody tr th {\n",
       "        vertical-align: top;\n",
       "    }\n",
       "\n",
       "    .dataframe thead th {\n",
       "        text-align: right;\n",
       "    }\n",
       "</style>\n",
       "<table border=\"1\" class=\"dataframe\">\n",
       "  <thead>\n",
       "    <tr style=\"text-align: right;\">\n",
       "      <th></th>\n",
       "      <th>AverageTemperature</th>\n",
       "    </tr>\n",
       "    <tr>\n",
       "      <th>Country</th>\n",
       "      <th></th>\n",
       "    </tr>\n",
       "  </thead>\n",
       "  <tbody>\n",
       "    <tr>\n",
       "      <th>Greenland</th>\n",
       "      <td>-17.778136</td>\n",
       "    </tr>\n",
       "    <tr>\n",
       "      <th>Denmark</th>\n",
       "      <td>-17.244677</td>\n",
       "    </tr>\n",
       "    <tr>\n",
       "      <th>Svalbard And Jan Mayen</th>\n",
       "      <td>-6.557375</td>\n",
       "    </tr>\n",
       "    <tr>\n",
       "      <th>Russia</th>\n",
       "      <td>-4.351694</td>\n",
       "    </tr>\n",
       "    <tr>\n",
       "      <th>Canada</th>\n",
       "      <td>-4.019440</td>\n",
       "    </tr>\n",
       "    <tr>\n",
       "      <th>...</th>\n",
       "      <td>...</td>\n",
       "    </tr>\n",
       "    <tr>\n",
       "      <th>Senegal</th>\n",
       "      <td>28.631548</td>\n",
       "    </tr>\n",
       "    <tr>\n",
       "      <th>Burkina Faso</th>\n",
       "      <td>28.683859</td>\n",
       "    </tr>\n",
       "    <tr>\n",
       "      <th>Mali</th>\n",
       "      <td>29.106677</td>\n",
       "    </tr>\n",
       "    <tr>\n",
       "      <th>Antarctica</th>\n",
       "      <td>29.235000</td>\n",
       "    </tr>\n",
       "    <tr>\n",
       "      <th>Djibouti</th>\n",
       "      <td>29.399365</td>\n",
       "    </tr>\n",
       "  </tbody>\n",
       "</table>\n",
       "<p>243 rows × 1 columns</p>\n",
       "</div>"
      ],
      "text/plain": [
       "                        AverageTemperature\n",
       "Country                                   \n",
       "Greenland                       -17.778136\n",
       "Denmark                         -17.244677\n",
       "Svalbard And Jan Mayen           -6.557375\n",
       "Russia                           -4.351694\n",
       "Canada                           -4.019440\n",
       "...                                    ...\n",
       "Senegal                          28.631548\n",
       "Burkina Faso                     28.683859\n",
       "Mali                             29.106677\n",
       "Antarctica                       29.235000\n",
       "Djibouti                         29.399365\n",
       "\n",
       "[243 rows x 1 columns]"
      ]
     },
     "execution_count": 18,
     "metadata": {},
     "output_type": "execute_result"
    }
   ],
   "source": [
    "latest_df[['Country','AverageTemperature']].groupby(['Country']).mean().sort_values('AverageTemperature')"
   ]
  },
  {
   "cell_type": "code",
   "execution_count": 22,
   "id": "f6808bc9",
   "metadata": {},
   "outputs": [
    {
     "data": {
      "image/png": "[encoded data removed]",
      "text/plain": [
       "<Figure size 648x288 with 1 Axes>"
      ]
     },
     "metadata": {
      "needs_background": "light"
     },
     "output_type": "display_data"
    }
   ],
   "source": [
    "plt.figure(figsize=(9,4))\n",
    "sns.lineplot(x=\"Year\",y=\"AverageTemperature\",data=latest_df)\n",
    "plt.show()"
   ]
  },
  {
   "cell_type": "code",
   "execution_count": 23,
   "id": "784e845f",
   "metadata": {},
   "outputs": [],
   "source": [
    "resample_df=latest_df[['AverageTemperature']].resample('A').mean()"
   ]
  },
  {
   "cell_type": "code",
   "execution_count": 24,
   "id": "63c9a6a6",
   "metadata": {},
   "outputs": [
    {
     "data": {
      "text/html": [
       "<div>\n",
       "<style scoped>\n",
       "    .dataframe tbody tr th:only-of-type {\n",
       "        vertical-align: middle;\n",
       "    }\n",
       "\n",
       "    .dataframe tbody tr th {\n",
       "        vertical-align: top;\n",
       "    }\n",
       "\n",
       "    .dataframe thead th {\n",
       "        text-align: right;\n",
       "    }\n",
       "</style>\n",
       "<table border=\"1\" class=\"dataframe\">\n",
       "  <thead>\n",
       "    <tr style=\"text-align: right;\">\n",
       "      <th></th>\n",
       "      <th>AverageTemperature</th>\n",
       "    </tr>\n",
       "    <tr>\n",
       "      <th>Date</th>\n",
       "      <th></th>\n",
       "    </tr>\n",
       "  </thead>\n",
       "  <tbody>\n",
       "    <tr>\n",
       "      <th>1980-12-31</th>\n",
       "      <td>18.896044</td>\n",
       "    </tr>\n",
       "    <tr>\n",
       "      <th>1981-12-31</th>\n",
       "      <td>18.958601</td>\n",
       "    </tr>\n",
       "    <tr>\n",
       "      <th>1982-12-31</th>\n",
       "      <td>18.894896</td>\n",
       "    </tr>\n",
       "    <tr>\n",
       "      <th>1983-12-31</th>\n",
       "      <td>19.135776</td>\n",
       "    </tr>\n",
       "    <tr>\n",
       "      <th>1984-12-31</th>\n",
       "      <td>18.808047</td>\n",
       "    </tr>\n",
       "  </tbody>\n",
       "</table>\n",
       "</div>"
      ],
      "text/plain": [
       "            AverageTemperature\n",
       "Date                          \n",
       "1980-12-31           18.896044\n",
       "1981-12-31           18.958601\n",
       "1982-12-31           18.894896\n",
       "1983-12-31           19.135776\n",
       "1984-12-31           18.808047"
      ]
     },
     "execution_count": 24,
     "metadata": {},
     "output_type": "execute_result"
    }
   ],
   "source": [
    "resample_df.head()"
   ]
  },
  {
   "cell_type": "code",
   "execution_count": 26,
   "id": "7f5300ce",
   "metadata": {},
   "outputs": [
    {
     "data": {
      "image/png": "[encoded data removed]",
      "text/plain": [
       "<Figure size 576x360 with 1 Axes>"
      ]
     },
     "metadata": {
      "needs_background": "light"
     },
     "output_type": "display_data"
    }
   ],
   "source": [
    "resample_df.plot(title=\"Temperature changes from 198-2013\",figsize=(8,5))\n",
    "plt.ylabel('Temperature',fontsize=12)\n",
    "plt.xlabel('year',fontsize=12)\n",
    "plt.show()"
   ]
  },
  {
   "cell_type": "code",
   "execution_count": 33,
   "id": "c1c2690e",
   "metadata": {},
   "outputs": [
    {
     "name": "stdout",
     "output_type": "stream",
     "text": [
      "Test results:\n",
      "Test statistic                -1.596314\n",
      "p-value                        0.485445\n",
      "Lags used                      3.000000\n",
      "Number of observations used    6.000000\n",
      "Critical Value (1%)           -5.354256\n",
      "Critical Value (5%)           -3.646238\n",
      "Critical Value (10%)          -2.901198\n",
      "dtype: float64\n"
     ]
    }
   ],
   "source": [
    "from statsmodels.tsa.stattools import adfuller\n",
    "print('Test results:')\n",
    "test_df=adfuller(resample_df.iloc[:10].values,autolag='AIC')\n",
    "df_output=pd.Series(test_df[0:4],index=['Test statistic','p-value','Lags used','Number of observations used'])\n",
    "for key,value in test_df[4].items():\n",
    "    df_output['Critical Value (%s)'%key]=value\n",
    "print(df_output)"
   ]
  },
  {
   "cell_type": "code",
   "execution_count": 34,
   "id": "f59d7c1d",
   "metadata": {},
   "outputs": [
    {
     "name": "stderr",
     "output_type": "stream",
     "text": [
      "<ipython-input-34-42b847f2c6db>:1: FutureWarning: the 'freq'' keyword is deprecated, use 'period' instead\n",
      "  decomp=seasonal_decompose(resample_df,freq=3)\n"
     ]
    }
   ],
   "source": [
    "decomp=seasonal_decompose(resample_df,freq=3)\n",
    "trend=decomp.trend\n",
    "seasonal=decomp.seasonal\n",
    "residual=decomp.resid"
   ]
  },
  {
   "cell_type": "code",
   "execution_count": 35,
   "id": "80c71461",
   "metadata": {},
   "outputs": [
    {
     "data": {
      "image/png": "[encoded data removed]",
      "text/plain": [
       "<Figure size 432x288 with 1 Axes>"
      ]
     },
     "metadata": {
      "needs_background": "light"
     },
     "output_type": "display_data"
    },
    {
     "data": {
      "image/png": "[encoded data removed]",
      "text/plain": [
       "<Figure size 432x360 with 1 Axes>"
      ]
     },
     "metadata": {
      "needs_background": "light"
     },
     "output_type": "display_data"
    },
    {
     "data": {
      "image/png": "[encoded data removed]",
      "text/plain": [
       "<Figure size 432x360 with 1 Axes>"
      ]
     },
     "metadata": {
      "needs_background": "light"
     },
     "output_type": "display_data"
    },
    {
     "data": {
      "image/png": "[encoded data removed]",
      "text/plain": [
       "<Figure size 432x360 with 1 Axes>"
      ]
     },
     "metadata": {
      "needs_background": "light"
     },
     "output_type": "display_data"
    },
    {
     "data": {
      "text/plain": [
       "<Figure size 432x360 with 0 Axes>"
      ]
     },
     "metadata": {},
     "output_type": "display_data"
    }
   ],
   "source": [
    "plt.subplot(411)\n",
    "plt.plot(resample_df)\n",
    "plt.xlabel('Original')\n",
    "plt.figure(figsize=(6,5))\n",
    "\n",
    "plt.subplot(412)\n",
    "plt.plot(trend)\n",
    "plt.xlabel('Trend')\n",
    "plt.figure(figsize=(6,5))\n",
    "\n",
    "plt.subplot(413)\n",
    "plt.plot(seasonal)\n",
    "plt.xlabel('Seasonal')\n",
    "plt.figure(figsize=(6,5))\n",
    "\n",
    "plt.subplot(414)\n",
    "plt.plot(residual)\n",
    "plt.xlabel('Residual')\n",
    "plt.figure(figsize=(6,5))\n",
    "\n",
    "plt.tight_layout()"
   ]
  },
  {
   "cell_type": "code",
   "execution_count": 37,
   "id": "f889540b",
   "metadata": {},
   "outputs": [
    {
     "data": {
      "image/png": "[encoded data removed]",
      "text/plain": [
       "<Figure size 864x360 with 2 Axes>"
      ]
     },
     "metadata": {
      "needs_background": "light"
     },
     "output_type": "display_data"
    }
   ],
   "source": [
    "rol_mean=resample_df.rolling(window=3,center=True).mean()\n",
    "ewm=resample_df.ewm(span=3).mean()\n",
    "rol_std=resample_df.rolling(window=3,center=True).std()\n",
    "fig,(ax1,ax2)=plt.subplots(1,2,figsize=(12,5))\n",
    "\n",
    "ax1.plot(resample_df,label='Original')\n",
    "ax1.plot(rol_mean,label='Rolling Mean')\n",
    "ax1.plot(ewm,label='Exponentially Weighted Mean')\n",
    "ax1.set_title('Temperature changes from 1980-2013',fontsize=14)\n",
    "ax1.set_ylabel('Temperature',fontsize=12)\n",
    "ax1.set_xlabel('year',fontsize=12)\n",
    "ax1.legend()\n",
    "\n",
    "ax2.plot(rol_std,label='Rolling STD')\n",
    "ax2.set_title('Temperature changes from 1980-2013',fontsize=14)\n",
    "ax1.set_ylabel('Temperature',fontsize=12)\n",
    "ax1.set_xlabel('year',fontsize=12)\n",
    "ax1.legend()\n",
    "\n",
    "plt.tight_layout()\n",
    "plt.show()"
   ]
  },
  {
   "cell_type": "code",
   "execution_count": 42,
   "id": "03753246",
   "metadata": {},
   "outputs": [
    {
     "name": "stdout",
     "output_type": "stream",
     "text": [
      "Dickey fuller test for the rolling mean:\n",
      "Test statistic                -1.596314\n",
      "p-value                        0.485445\n",
      "Lags used                      3.000000\n",
      "Number of observations used    6.000000\n",
      "Critical Value (1%)           -5.354256\n",
      "Critical Value (5%)           -3.646238\n",
      "Critical Value (10%)          -2.901198\n",
      "dtype: float64\n",
      "\n",
      "Dickey fuller test for the Exponentially Weighted Mean:\n",
      "Test statistic                -1.596314\n",
      "p-value                        0.485445\n",
      "Lags used                      3.000000\n",
      "Number of observations used    6.000000\n",
      "Critical Value (1%)           -5.354256\n",
      "Critical Value (5%)           -3.646238\n",
      "Critical Value (10%)          -2.901198\n",
      "dtype: float64\n"
     ]
    }
   ],
   "source": [
    "rol_mean.dropna(inplace=True)\n",
    "ewm.dropna(inplace=True)\n",
    "print('Dickey fuller test for the rolling mean:')\n",
    "df_test=adfuller(rol_mean.iloc[:,0].values,autolag='AIC')\n",
    "df_output=pd.Series(test_df[0:4],index=['Test statistic','p-value','Lags used','Number of observations used'])\n",
    "for key,value in test_df[4].items():\n",
    "    df_output['Critical Value (%s)'%key]=value\n",
    "print(df_output)\n",
    "print('')\n",
    "print('Dickey fuller test for the Exponentially Weighted Mean:')\n",
    "df_test=adfuller(ewm.iloc[:,0].values,autolag='AIC')\n",
    "df_output=pd.Series(test_df[0:4],index=['Test statistic','p-value','Lags used','Number of observations used'])\n",
    "for key,value in test_df[4].items():\n",
    "    df_output['Critical Value (%s)'%key]=value\n",
    "print(df_output)"
   ]
  },
  {
   "cell_type": "code",
   "execution_count": 43,
   "id": "7c80cd42",
   "metadata": {},
   "outputs": [
    {
     "data": {
      "text/html": [
       "<div>\n",
       "<style scoped>\n",
       "    .dataframe tbody tr th:only-of-type {\n",
       "        vertical-align: middle;\n",
       "    }\n",
       "\n",
       "    .dataframe tbody tr th {\n",
       "        vertical-align: top;\n",
       "    }\n",
       "\n",
       "    .dataframe thead th {\n",
       "        text-align: right;\n",
       "    }\n",
       "</style>\n",
       "<table border=\"1\" class=\"dataframe\">\n",
       "  <thead>\n",
       "    <tr style=\"text-align: right;\">\n",
       "      <th></th>\n",
       "      <th>AverageTemperature</th>\n",
       "    </tr>\n",
       "    <tr>\n",
       "      <th>Date</th>\n",
       "      <th></th>\n",
       "    </tr>\n",
       "  </thead>\n",
       "  <tbody>\n",
       "    <tr>\n",
       "      <th>1981-12-31</th>\n",
       "      <td>0.042087</td>\n",
       "    </tr>\n",
       "    <tr>\n",
       "      <th>1982-12-31</th>\n",
       "      <td>-0.101528</td>\n",
       "    </tr>\n",
       "    <tr>\n",
       "      <th>1983-12-31</th>\n",
       "      <td>0.189536</td>\n",
       "    </tr>\n",
       "    <tr>\n",
       "      <th>1984-12-31</th>\n",
       "      <td>-0.087390</td>\n",
       "    </tr>\n",
       "    <tr>\n",
       "      <th>1985-12-31</th>\n",
       "      <td>-0.055720</td>\n",
       "    </tr>\n",
       "  </tbody>\n",
       "</table>\n",
       "</div>"
      ],
      "text/plain": [
       "            AverageTemperature\n",
       "Date                          \n",
       "1981-12-31            0.042087\n",
       "1982-12-31           -0.101528\n",
       "1983-12-31            0.189536\n",
       "1984-12-31           -0.087390\n",
       "1985-12-31           -0.055720"
      ]
     },
     "execution_count": 43,
     "metadata": {},
     "output_type": "execute_result"
    }
   ],
   "source": [
    "diff_rol_mean=resample_df-rol_mean\n",
    "diff_rol_mean.dropna(inplace=True)\n",
    "diff_rol_mean.head()"
   ]
  },
  {
   "cell_type": "code",
   "execution_count": 49,
   "id": "20f64f85",
   "metadata": {},
   "outputs": [
    {
     "data": {
      "text/html": [
       "<div>\n",
       "<style scoped>\n",
       "    .dataframe tbody tr th:only-of-type {\n",
       "        vertical-align: middle;\n",
       "    }\n",
       "\n",
       "    .dataframe tbody tr th {\n",
       "        vertical-align: top;\n",
       "    }\n",
       "\n",
       "    .dataframe thead th {\n",
       "        text-align: right;\n",
       "    }\n",
       "</style>\n",
       "<table border=\"1\" class=\"dataframe\">\n",
       "  <thead>\n",
       "    <tr style=\"text-align: right;\">\n",
       "      <th></th>\n",
       "      <th>AverageTemperature</th>\n",
       "    </tr>\n",
       "    <tr>\n",
       "      <th>Date</th>\n",
       "      <th></th>\n",
       "    </tr>\n",
       "  </thead>\n",
       "  <tbody>\n",
       "    <tr>\n",
       "      <th>1980-12-31</th>\n",
       "      <td>0.000000</td>\n",
       "    </tr>\n",
       "    <tr>\n",
       "      <th>1981-12-31</th>\n",
       "      <td>0.020852</td>\n",
       "    </tr>\n",
       "    <tr>\n",
       "      <th>1982-12-31</th>\n",
       "      <td>-0.018365</td>\n",
       "    </tr>\n",
       "    <tr>\n",
       "      <th>1983-12-31</th>\n",
       "      <td>0.103840</td>\n",
       "    </tr>\n",
       "    <tr>\n",
       "      <th>1984-12-31</th>\n",
       "      <td>-0.108333</td>\n",
       "    </tr>\n",
       "  </tbody>\n",
       "</table>\n",
       "</div>"
      ],
      "text/plain": [
       "            AverageTemperature\n",
       "Date                          \n",
       "1980-12-31            0.000000\n",
       "1981-12-31            0.020852\n",
       "1982-12-31           -0.018365\n",
       "1983-12-31            0.103840\n",
       "1984-12-31           -0.108333"
      ]
     },
     "execution_count": 49,
     "metadata": {},
     "output_type": "execute_result"
    }
   ],
   "source": [
    "diff_ewm=resample_df-ewm\n",
    "diff_ewm.dropna(inplace=True)\n",
    "diff_ewm.head()"
   ]
  },
  {
   "cell_type": "code",
   "execution_count": 50,
   "id": "3ca6cd34",
   "metadata": {},
   "outputs": [
    {
     "data": {
      "image/png": "[encoded data removed]",
      "text/plain": [
       "<Figure size 720x288 with 2 Axes>"
      ]
     },
     "metadata": {
      "needs_background": "light"
     },
     "output_type": "display_data"
    }
   ],
   "source": [
    "df_rol_mean_diff=diff_rol_mean.rolling(window=3,center=True).mean()\n",
    "df_ewm_diff = diff_ewm.ewm(span=3).mean()\n",
    "fig,(ax1,ax2)=plt.subplots(1,2,figsize=(10,4))\n",
    "\n",
    "ax1.plot(diff_rol_mean,label='Original')\n",
    "ax1.plot(df_rol_mean_diff,label='Rolling Mean')\n",
    "ax1.set_title('Temperature changes from 1980-2013',fontsize=14)\n",
    "ax1.set_ylabel('Temperature',fontsize=12)\n",
    "ax1.set_xlabel('year',fontsize=12)\n",
    "ax1.legend()\n",
    "\n",
    "ax2.plot(diff_ewm,label='Original')\n",
    "ax2.plot(df_ewm_diff,label='Exponentially Weighted Mean')\n",
    "ax2.set_title('Temperature changes from 1980-2013',fontsize=14)\n",
    "ax2.set_ylabel('Temperature',fontsize=12)\n",
    "ax2.set_xlabel('year',fontsize=12)\n",
    "ax2.legend()\n",
    "\n",
    "plt.tight_layout()"
   ]
  },
  {
   "cell_type": "code",
   "execution_count": 51,
   "id": "e0fa5885",
   "metadata": {},
   "outputs": [
    {
     "name": "stdout",
     "output_type": "stream",
     "text": [
      "dickey-Fuller test for the difference between the original and rolling mean:\n",
      "Test statistic                -1.596314\n",
      "p-value                        0.485445\n",
      "Lags used                      3.000000\n",
      "Number of observations used    6.000000\n",
      "Critical Value (1%)           -5.354256\n",
      "Critical Value (5%)           -3.646238\n",
      "Critical Value (10%)          -2.901198\n",
      "dtype: float64\n",
      "\n",
      "Dickey fuller test for the Exponentially Weighted Mean:\n",
      "Test statistic                -1.596314\n",
      "p-value                        0.485445\n",
      "Lags used                      3.000000\n",
      "Number of observations used    6.000000\n",
      "Critical Value (1%)           -5.354256\n",
      "Critical Value (5%)           -3.646238\n",
      "Critical Value (10%)          -2.901198\n",
      "dtype: float64\n"
     ]
    }
   ],
   "source": [
    "print('dickey-Fuller test for the difference between the original and rolling mean:')\n",
    "dftest=adfuller(diff_rol_mean.iloc[:,0].values,autolag='AIC')\n",
    "dfoutput=pd.Series(test_df[0:4],index=['Test statistic','p-value','Lags used','Number of observations used'])\n",
    "for key,value in test_df[4].items():\n",
    "    dfoutput['Critical Value (%s)'%key]=value\n",
    "print(dfoutput)\n",
    "print('')\n",
    "print('Dickey fuller test for the difference between the original and   Exponentially Weighted Mean:')\n",
    "dftest=adfuller(diff_ewm.iloc[:,0].values,autolag='AIC')\n",
    "dfoutput=pd.Series(test_df[0:4],index=['Test statistic','p-value','Lags used','Number of observations used'])\n",
    "for key,value in test_df[4].items():\n",
    "    dfoutput['Critical Value (%s)'%key]=value\n",
    "print(dfoutput)"
   ]
  },
  {
   "cell_type": "code",
   "execution_count": 53,
   "id": "dbfe628a",
   "metadata": {},
   "outputs": [
    {
     "data": {
      "image/png": "[encoded data removed]",
      "text/plain": [
       "<Figure size 720x360 with 2 Axes>"
      ]
     },
     "metadata": {
      "needs_background": "light"
     },
     "output_type": "display_data"
    }
   ],
   "source": [
    "from statsmodels.graphics.tsaplots import plot_acf\n",
    "from statsmodels.graphics.tsaplots import plot_pacf\n",
    "from matplotlib import pyplot\n",
    "\n",
    "pyplot.figure(figsize=(10,5))\n",
    "pyplot.subplot(211)\n",
    "plot_acf(resample_df,ax=pyplot.gca())\n",
    "pyplot.subplot(212)\n",
    "plot_pacf(resample_df,ax=pyplot.gca())\n",
    "pyplot.show()"
   ]
  },
  {
   "cell_type": "code",
   "execution_count": null,
   "id": "372ef8dc",
   "metadata": {},
   "outputs": [],
   "source": [
    " "
   ]
  }
 ],
 "metadata": {
  "kernelspec": {
   "display_name": "Python 3",
   "language": "python",
   "name": "python3"
  },
  "language_info": {
   "codemirror_mode": {
    "name": "ipython",
    "version": 3
   },
   "file_extension": ".py",
   "mimetype": "text/x-python",
   "name": "python",
   "nbconvert_exporter": "python",
   "pygments_lexer": "ipython3",
   "version": "3.8.8"
  }
 },
 "nbformat": 4,
 "nbformat_minor": 5
}
